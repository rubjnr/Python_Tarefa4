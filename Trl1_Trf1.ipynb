{
  "nbformat": 4,
  "nbformat_minor": 0,
  "metadata": {
    "colab": {
      "provenance": [],
      "collapsed_sections": [],
      "toc_visible": true,
      "mount_file_id": "1H-iYx5sbhOXwH8uq8T4UVQiQrsHUvn12",
      "authorship_tag": "ABX9TyNhrH0MjSmuCVRBvJyGKDB7",
      "include_colab_link": true
    },
    "kernelspec": {
      "name": "python3",
      "display_name": "Python 3"
    },
    "language_info": {
      "name": "python"
    }
  },
  "cells": [
    {
      "cell_type": "markdown",
      "metadata": {
        "id": "view-in-github",
        "colab_type": "text"
      },
      "source": [
        "<a href=\"https://colab.research.google.com/github/rubjnr/Python_Tarefa4/blob/main/Trl1_Trf1.ipynb\" target=\"_parent\"><img src=\"https://colab.research.google.com/assets/colab-badge.svg\" alt=\"Open In Colab\"/></a>"
      ]
    },
    {
      "cell_type": "markdown",
      "source": [
        "## **Introdução** ##\n",
        "O texto escolhido compreende um artigo que me é interessante e pela grande variedade de termos, que traria um resultado mais rico à tarefa proposta."
      ],
      "metadata": {
        "id": "U8wZ_kjgZZIi"
      }
    },
    {
      "cell_type": "code",
      "source": [
        "import urllib.request  \n",
        "import nltk\n",
        "from nltk.corpus import stopwords\n",
        "from nltk.tokenize import word_tokenize\n",
        "from nltk.corpus import stopwords\n",
        "\n",
        "\n",
        "nltk.download('stopwords')\n",
        "nltk.download('punkt')\n",
        "\n",
        "texto = []\n",
        "\n",
        "for line in urllib.request.urlopen:('https://raw.githubusercontent.com/rubjnr/Python_Tarefa4/main/Artigo.txt'):\n",
        "texto.append(line)\n",
        "\n",
        "for i in range(len(texto)):\n",
        "    texto[i] = texto[i].lower() \n",
        "    texto[i] = texto[i].replace('\\n','')\n",
        "    texto[i] = texto[i].replace('.','')\n",
        "    texto[i] = texto[i].replace(',','')\n",
        "    texto[i] = texto[i].replace('(','')\n",
        "    texto[i] = texto[i].replace(')','')\n",
        "    texto[i] = texto[i].replace('?','')\n"
      ],
      "metadata": {
        "id": "IsWgMq2gDxQf",
        "colab": {
          "base_uri": "https://localhost:8080/",
          "height": 130
        },
        "outputId": "fb29c2fd-f15d-4f49-96a4-68e70f750c53"
      },
      "execution_count": null,
      "outputs": [
        {
          "output_type": "error",
          "ename": "SyntaxError",
          "evalue": "ignored",
          "traceback": [
            "\u001b[0;36m  File \u001b[0;32m\"<ipython-input-27-ecab1af00fe5>\"\u001b[0;36m, line \u001b[0;32m13\u001b[0m\n\u001b[0;31m    for line in urllib.request.urlopen:('https://raw.githubusercontent.com/rubjnr/Python_Tarefa4/main/Artigo.txt'):\u001b[0m\n\u001b[0m                                                                                                                   ^\u001b[0m\n\u001b[0;31mSyntaxError\u001b[0m\u001b[0;31m:\u001b[0m invalid syntax\n"
          ]
        }
      ]
    },
    {
      "cell_type": "code",
      "source": [
        "mydict = {}\n",
        "                     \n",
        "stopWords = set(stopwords.words('portuguese'))\n",
        "words = word_tokenize(line)\n",
        "wordsfilter = []\n",
        "wordsremov = []\n",
        "\n",
        "for line in texto:\n",
        "\n",
        "  line = line.lower()                   \n",
        "  words = line.split()                  \n",
        "\n",
        "for w in words:\n",
        "  if w not in stopWords:\n",
        "    wordsfilter.append(w)\n",
        "  else:\n",
        "    wordsremov.append(w)\n",
        "\n",
        "    \n",
        "  for palavra in wordsfilter:                      \n",
        "    if palavra not in mydict.keys():         \n",
        "      mydict[palavra] = 1                    \n",
        "    else:                                 \n",
        "      mydict[palavra] =  mydict[palavra] + 1    \n",
        "\n",
        "print(mydict)   "
      ],
      "metadata": {
        "colab": {
          "base_uri": "https://localhost:8080/"
        },
        "id": "gmCTa1ZKONOQ",
        "outputId": "d3c7f188-3876-4e44-e638-7ff26fccaf9a"
      },
      "execution_count": null,
      "outputs": [
        {
          "output_type": "stream",
          "name": "stdout",
          "text": [
            "{'detectar': 64, 'civilizações': 63, 'alienígenas': 111, 'através': 61, 'emissões': 98, 'rádio': 94, 'observadores': 56, 'terra': 54, 'precisam': 53, 'aparelhos': 51, 'sensíveis': 49, 'coincidência': 46, 'alguns': 44, 'eventos': 43, 'casuais:': 42, 'fortes': 32, 'nossa;': 29, 'buscas': 26, 'seti': 25, 'procurando': 23, 'frequências': 21, 'regiões': 19, 'certas': 18, 'céu;': 16, 'enviem': 12, 'transmissões': 11, 'focalizadas': 10, 'arecibo': 6, 'direção': 2, 'geral': 1}\n"
          ]
        }
      ]
    },
    {
      "cell_type": "code",
      "source": [
        "import pandas as pd\n",
        "import seaborn as sns\n",
        "import matplotlib as mpl\n",
        "import matplotlib.pyplot as plt\n",
        "import numpy as np\n",
        "\n",
        "df = pd.DataFrame(mydict.items(),  columns=['word', 'count']).sort_values('count',ascending=False)\n",
        "df = df[df['count'] > 4] \n",
        "df = df[:20]\n",
        "\n",
        "plt.figure(figsize=(24,10))\n",
        "mpl.style.use(['seaborn'])\n",
        "sns.barplot(x=df.word,y=df['count'])\n",
        "plt.xticks(rotation=90) \n",
        "\n",
        "plt.show()"
      ],
      "metadata": {
        "colab": {
          "base_uri": "https://localhost:8080/",
          "height": 656
        },
        "id": "vO-S1mMAOYyv",
        "outputId": "214bb96e-42bd-4374-b8c1-9abb89c3fd57"
      },
      "execution_count": null,
      "outputs": [
        {
          "output_type": "display_data",
          "data": {
            "text/plain": [
              "<Figure size 1728x720 with 1 Axes>"
            ],
            "image/png": "[encoded data removed]"
          },
          "metadata": {
            "needs_background": "light"
          }
        }
      ]
    },
    {
      "cell_type": "markdown",
      "source": [
        "## Conclusão ##\n",
        "Ao final da tarefa, ficou mais claro entender o funcionamento das diversas bibliotecas utilizadas, bem como as variadas funções que podemos ter dentro delas. Foi uma bela introdução à capacidade e poder analítico do Python,\n",
        "podendo facilmente destrinchar grandes arquivos de dados e sumarizá-los de forma rápida e personalizada."
      ],
      "metadata": {
        "id": "hcJJnhLEdllT"
      }
    }
  ]
}